{
  "nbformat": 4,
  "nbformat_minor": 0,
  "metadata": {
    "colab": {
      "provenance": [],
      "authorship_tag": "ABX9TyMULQcclw6siII7k1biaZhO",
      "include_colab_link": true
    },
    "kernelspec": {
      "name": "python3",
      "display_name": "Python 3"
    },
    "language_info": {
      "name": "python"
    }
  },
  "cells": [
    {
      "cell_type": "markdown",
      "metadata": {
        "id": "view-in-github",
        "colab_type": "text"
      },
      "source": [
        "<a href=\"https://colab.research.google.com/github/janpeter19/BPL_TEST2_Batch_design_space/blob/main/BPL_TEST2_Batch_design_space_fmpy_colab.ipynb\" target=\"_parent\"><img src=\"https://colab.research.google.com/assets/colab-badge.svg\" alt=\"Open In Colab\"/></a>"
      ]
    },
    {
      "cell_type": "markdown",
      "source": [
        "# BPL_TEST2_Batch_design_space script with FMPy\n",
        "\n",
        "The key library FMPy is installed.\n",
        "\n",
        "After the installation a small application BPL_TEST2_Batch_design_space is loaded and run. You can continue with this example if you like."
      ],
      "metadata": {
        "id": "UFcMzs4Y3HwH"
      }
    },
    {
      "cell_type": "code",
      "execution_count": null,
      "metadata": {
        "colab": {
          "base_uri": "https://localhost:8080/"
        },
        "id": "ID68dwep2zus",
        "outputId": "2ef811e6-5e61-4cab-b8db-cc85ac0a8a4d"
      },
      "outputs": [
        {
          "output_type": "stream",
          "name": "stdout",
          "text": [
            "No LSB modules are available.\n",
            "Distributor ID:\tUbuntu\n",
            "Description:\tUbuntu 22.04.3 LTS\n",
            "Release:\t22.04\n",
            "Codename:\tjammy\n"
          ]
        }
      ],
      "source": [
        "!lsb_release -a # Actual VM Ubuntu version used by Google"
      ]
    },
    {
      "cell_type": "code",
      "source": [
        "%env PYTHONPATH="
      ],
      "metadata": {
        "colab": {
          "base_uri": "https://localhost:8080/"
        },
        "id": "pVDcSg-j3SSV",
        "outputId": "2b2df04c-6a78-4e84-dcc5-33e6ca53afd6"
      },
      "execution_count": null,
      "outputs": [
        {
          "output_type": "stream",
          "name": "stdout",
          "text": [
            "env: PYTHONPATH=\n"
          ]
        }
      ]
    },
    {
      "cell_type": "code",
      "source": [
        "!wget https://repo.anaconda.com/miniconda/Miniconda3-py312_24.3.0-0-Linux-x86_64.sh\n",
        "!chmod +x Miniconda3-py312_24.3.0-0-Linux-x86_64.sh\n",
        "!bash ./Miniconda3-py312_24.3.0-0-Linux-x86_64.sh -b -f -p /usr/local\n",
        "import sys\n",
        "sys.path.append('/usr/local/lib/python3.12/site-packages/')"
      ],
      "metadata": {
        "colab": {
          "base_uri": "https://localhost:8080/"
        },
        "id": "04VeBmLU3UFx",
        "outputId": "c6225ed4-c86a-4c88-b5fb-b9e6dc48263a"
      },
      "execution_count": null,
      "outputs": [
        {
          "output_type": "stream",
          "name": "stdout",
          "text": [
            "--2024-05-28 05:26:19--  https://repo.anaconda.com/miniconda/Miniconda3-py312_24.3.0-0-Linux-x86_64.sh\n",
            "Resolving repo.anaconda.com (repo.anaconda.com)... 104.16.191.158, 104.16.32.241, 2606:4700::6810:20f1, ...\n",
            "Connecting to repo.anaconda.com (repo.anaconda.com)|104.16.191.158|:443... connected.\n",
            "HTTP request sent, awaiting response... 200 OK\n",
            "Length: 143351488 (137M) [application/octet-stream]\n",
            "Saving to: ‘Miniconda3-py312_24.3.0-0-Linux-x86_64.sh’\n",
            "\n",
            "Miniconda3-py312_24 100%[===================>] 136.71M   176MB/s    in 0.8s    \n",
            "\n",
            "2024-05-28 05:26:20 (176 MB/s) - ‘Miniconda3-py312_24.3.0-0-Linux-x86_64.sh’ saved [143351488/143351488]\n",
            "\n",
            "PREFIX=/usr/local\n",
            "Unpacking payload ...\n",
            "\n",
            "Installing base environment...\n",
            "\n",
            "Preparing transaction: ...working... done\n",
            "Executing transaction: ...working... done\n",
            "installation finished.\n"
          ]
        }
      ]
    },
    {
      "cell_type": "code",
      "source": [
        "!conda update -n base -c defaults conda --yes"
      ],
      "metadata": {
        "colab": {
          "base_uri": "https://localhost:8080/"
        },
        "id": "5iuP4_vl3WFA",
        "outputId": "ef9f1e2d-581d-4a4b-b17a-41bb79b7746d"
      },
      "execution_count": null,
      "outputs": [
        {
          "output_type": "stream",
          "name": "stdout",
          "text": [
            "Channels:\n",
            " - defaults\n",
            "Platform: linux-64\n",
            "Collecting package metadata (repodata.json): - \b\b\\ \b\b| \b\b/ \b\b- \b\b\\ \b\b| \b\b/ \b\b- \b\b\\ \b\b| \b\b/ \b\b- \b\b\\ \b\b| \b\b/ \b\b- \b\bdone\n",
            "Solving environment: | \b\b/ \b\bdone\n",
            "\n",
            "## Package Plan ##\n",
            "\n",
            "  environment location: /usr/local\n",
            "\n",
            "  added / updated specs:\n",
            "    - conda\n",
            "\n",
            "\n",
            "The following packages will be downloaded:\n",
            "\n",
            "    package                    |            build\n",
            "    ---------------------------|-----------------\n",
            "    conda-24.5.0               |  py312h06a4308_0         1.2 MB\n",
            "    frozendict-2.4.2           |  py312h06a4308_0          36 KB\n",
            "    openssl-3.0.13             |       h7f8727e_2         5.2 MB\n",
            "    ------------------------------------------------------------\n",
            "                                           Total:         6.5 MB\n",
            "\n",
            "The following NEW packages will be INSTALLED:\n",
            "\n",
            "  frozendict         pkgs/main/linux-64::frozendict-2.4.2-py312h06a4308_0 \n",
            "\n",
            "The following packages will be UPDATED:\n",
            "\n",
            "  conda                              24.3.0-py312h06a4308_0 --> 24.5.0-py312h06a4308_0 \n",
            "  openssl                                 3.0.13-h7f8727e_0 --> 3.0.13-h7f8727e_2 \n",
            "\n",
            "\n",
            "\n",
            "Downloading and Extracting Packages:\n",
            "openssl-3.0.13       | 5.2 MB    | :   0% 0/1 [00:00<?, ?it/s]\n",
            "conda-24.5.0         | 1.2 MB    | :   0% 0/1 [00:00<?, ?it/s]\u001b[A\n",
            "\n",
            "openssl-3.0.13       | 5.2 MB    | :   0% 0.002992912657148922/1 [00:00<00:36, 36.82s/it]\n",
            "conda-24.5.0         | 1.2 MB    | :   1% 0.01293349794914382/1 [00:00<00:11, 11.47s/it]\u001b[A\n",
            "\n",
            "frozendict-2.4.2     | 36 KB     | :  44% 0.43853215920344746/1 [00:00<00:00,  2.93it/s]\u001b[A\u001b[A\n",
            "\n",
            "frozendict-2.4.2     | 36 KB     | : 100% 1.0/1 [00:00<00:00,  2.93it/s]                \u001b[A\u001b[A\n",
            "conda-24.5.0         | 1.2 MB    | : 100% 1.0/1 [00:00<00:00,  2.01it/s]                \u001b[A\n",
            "                                                                        \n",
            "                                                                        \u001b[A\n",
            "\n",
            "                                                                        \u001b[A\u001b[A\n",
            "Preparing transaction: \\ \b\bdone\n",
            "Verifying transaction: / \b\b- \b\b\\ \b\bdone\n",
            "Executing transaction: / \b\b- \b\bdone\n"
          ]
        }
      ]
    },
    {
      "cell_type": "code",
      "source": [
        "!conda --version\n",
        "!python --version"
      ],
      "metadata": {
        "colab": {
          "base_uri": "https://localhost:8080/"
        },
        "id": "uoBMBSS63Z58",
        "outputId": "bf8fa09a-c409-483e-e99e-27431c1515a0"
      },
      "execution_count": null,
      "outputs": [
        {
          "output_type": "stream",
          "name": "stdout",
          "text": [
            "conda 24.5.0\n",
            "Python 3.12.2\n"
          ]
        }
      ]
    },
    {
      "cell_type": "code",
      "source": [
        "!conda install -c conda-forge fmpy --yes # Install the key package"
      ],
      "metadata": {
        "colab": {
          "base_uri": "https://localhost:8080/"
        },
        "id": "RMuJRdfH3dDq",
        "outputId": "01be26ca-e68d-49bc-c9f0-34e8ed94dda6"
      },
      "execution_count": null,
      "outputs": [
        {
          "output_type": "stream",
          "name": "stdout",
          "text": [
            "Channels:\n",
            " - conda-forge\n",
            " - defaults\n",
            "Platform: linux-64\n",
            "Collecting package metadata (repodata.json): - \b\b\\ \b\b| \b\b/ \b\b- \b\b\\ \b\b| \b\b/ \b\b- \b\b\\ \b\b| \b\b/ \b\b- \b\b\\ \b\b| \b\b/ \b\b- \b\b\\ \b\b| \b\b/ \b\b- \b\b\\ \b\b| \b\b/ \b\b- \b\b\\ \b\b| \b\b/ \b\b- \b\b\\ \b\b| \b\b/ \b\b- \b\bdone\n",
            "Solving environment: | \b\b/ \u001b[33m\u001b[1mwarning  libmamba\u001b[m Added empty dependency for problem type SOLVER_RULE_UPDATE\n",
            "\b\b- \b\b\\ \b\b| \b\b/ \b\b- \b\bfailed\n",
            "\n",
            "CondaError: KeyboardInterrupt\n",
            "\n"
          ]
        }
      ]
    },
    {
      "cell_type": "markdown",
      "source": [
        "Now specific installation and the run simulations. Start with connecting to Github. Then upload the four files:\n",
        "\n",
        "* FMU - BPL_TEST2_Batch_design_space_no_noise_linux_om_me.fmu\n",
        "* Setup-file - BPL_TEST2_Batch_design_space_no_noise_fmpy_explore.py\n",
        "* FMU - BPL_TEST2_Batch_design_space_with_noise_linux_om_me.fmu\n",
        "* Setup-file - BPL_TEST2_Batch_design_space_with_noise_fmpy_\n",
        "explore.py\n"
      ],
      "metadata": {
        "id": "mxILgQ103nZ6"
      }
    },
    {
      "cell_type": "code",
      "source": [
        "# Filter out DepracationWarnings for 'np.float as alias' is needed - wish I could make filter more narrow\n",
        "import warnings\n",
        "warnings.filterwarnings(\"ignore\")"
      ],
      "metadata": {
        "id": "RrYshFe13jmO"
      },
      "execution_count": null,
      "outputs": []
    },
    {
      "cell_type": "code",
      "source": [
        "%%bash\n",
        "git clone https://github.com/janpeter19/BPL_TEST2_Batch_design_space"
      ],
      "metadata": {
        "colab": {
          "base_uri": "https://localhost:8080/"
        },
        "id": "RfWPh1B63yBF",
        "outputId": "819ab860-a512-41df-81f3-1951d2b77c92"
      },
      "execution_count": null,
      "outputs": [
        {
          "output_type": "stream",
          "name": "stderr",
          "text": [
            "Cloning into 'BPL_TEST2_Batch_design_space'...\n"
          ]
        }
      ]
    },
    {
      "cell_type": "code",
      "source": [
        "%cd BPL_TEST2_Batch_design_space"
      ],
      "metadata": {
        "id": "i6uOVB44300a",
        "outputId": "b102ecea-c655-4c51-81ae-a4147b3935bc",
        "colab": {
          "base_uri": "https://localhost:8080/"
        }
      },
      "execution_count": null,
      "outputs": [
        {
          "output_type": "stream",
          "name": "stdout",
          "text": [
            "/content/BPL_TEST2_Batch_design_space\n"
          ]
        }
      ]
    },
    {
      "cell_type": "markdown",
      "source": [
        "# BPL_TEST2_Batch_design_space - demo\n",
        "\n",
        "In this notebook the design space for a batch cultivation process is determined and visualized. The example is kept as simple as possible. The culture grow on a substrate S and the cell conentration X inrease until the substrate is consumed. We study the problem first without any measurement noise and then later with measurement noise and use one separate FMU for each.\n",
        "\n",
        "The end criteria for a batch is here when the subdstrate level has decreased below a certain predefined level and that time is called time_final:\n",
        "* S < Smin\n",
        "\n",
        "The evaluation of the batch culture is just in terms of the obtained value of cell concentration at the end in combination with how long time the culture took. The batch is accepted provided the culture fullfil the two requirements:\n",
        "\n",
        "* X_final > X_final_min\n",
        "* Time_final < time_final_max\n",
        "\n",
        "The question is what range of process parameters Y and qSmax that can be allowed to still get accepted batches.\n",
        "\n",
        "Here we simply use brute force and sweep through a number combinations of process parameters and evaluate by simulation the result for each parameter setting. We get rather clear-cut corners in the process parameter space that result in acceptable batches.\n",
        "\n",
        "In the later part we introduce substrate measurement error and in this way introduce some uncertainty in the determination of end of batch. The impact of this measurement noise is that the design space get more rounded corners.\n",
        "\n",
        "The practical experimental approach is usually to just use a few parameter combinations and evaluate these and from that information calculate the design space. Usually \"process linearity\" assumption is used. The combination of this experimental approach with brute force simulation is discussed in reference [1]."
      ],
      "metadata": {
        "id": "UTETJm3l6heL"
      }
    },
    {
      "cell_type": "markdown",
      "source": [
        "## 1 Batch end detection - no measurement noise\n",
        "\n",
        "Here we load a system model without noise. Thus detection of end of batch is an event in continuous time."
      ],
      "metadata": {
        "id": "_8emYHuXEabL"
      }
    },
    {
      "cell_type": "code",
      "source": [
        "run -i BPL_TEST2_Batch_no_noise_fmpy_explore.py"
      ],
      "metadata": {
        "id": "b-y82jZY33cO",
        "outputId": "556e0ecb-5972-48ae-93ce-328c61b2137d",
        "colab": {
          "base_uri": "https://localhost:8080/",
          "height": 211
        }
      },
      "execution_count": null,
      "outputs": [
        {
          "output_type": "error",
          "ename": "ModuleNotFoundError",
          "evalue": "No module named 'fmpy'",
          "traceback": [
            "\u001b[0;31m---------------------------------------------------------------------------\u001b[0m",
            "\u001b[0;31mModuleNotFoundError\u001b[0m                       Traceback (most recent call last)",
            "\u001b[0;32m/content/BPL_TEST2_Batch_design_space/BPL_TEST2_Batch_no_noise_fmpy_explore.py\u001b[0m in \u001b[0;36m<module>\u001b[0;34m\u001b[0m\n\u001b[1;32m     79\u001b[0m \u001b[0;32mimport\u001b[0m \u001b[0mzipfile\u001b[0m\u001b[0;34m\u001b[0m\u001b[0;34m\u001b[0m\u001b[0m\n\u001b[1;32m     80\u001b[0m \u001b[0;34m\u001b[0m\u001b[0m\n\u001b[0;32m---> 81\u001b[0;31m \u001b[0;32mfrom\u001b[0m \u001b[0mfmpy\u001b[0m \u001b[0;32mimport\u001b[0m \u001b[0msimulate_fmu\u001b[0m\u001b[0;34m\u001b[0m\u001b[0;34m\u001b[0m\u001b[0m\n\u001b[0m\u001b[1;32m     82\u001b[0m \u001b[0;32mfrom\u001b[0m \u001b[0mfmpy\u001b[0m \u001b[0;32mimport\u001b[0m \u001b[0mread_model_description\u001b[0m\u001b[0;34m\u001b[0m\u001b[0;34m\u001b[0m\u001b[0m\n\u001b[1;32m     83\u001b[0m \u001b[0;32mimport\u001b[0m \u001b[0mfmpy\u001b[0m \u001b[0;32mas\u001b[0m \u001b[0mfmpy\u001b[0m\u001b[0;34m\u001b[0m\u001b[0;34m\u001b[0m\u001b[0m\n",
            "\u001b[0;31mModuleNotFoundError\u001b[0m: No module named 'fmpy'"
          ]
        }
      ]
    },
    {
      "cell_type": "code",
      "source": [
        "# Adjust the diagram size\n",
        "%matplotlib inline\n",
        "plt.rcParams['figure.figsize'] = [30/2.54, 24/2.54]"
      ],
      "metadata": {
        "id": "HUFhuE-H4RCw"
      },
      "execution_count": null,
      "outputs": []
    },
    {
      "cell_type": "markdown",
      "source": [
        "## 1.1 Batch evaluation\n",
        "\n",
        "The first an example of batch that has an end of batch that fulfills the criteria for acceptance.  In the following diagram we see examples of impact of variation on the criteria for acceptance.\n",
        "\n",
        "The variable batch_evaluation goes from 0 to either 1 or a negative value when end of batch is detected. A positive value 1 means that the acceptance criteria is fullfilled and a negative value -1, -2 or -3 is obtained if one or more criteria for acceptance is not fullfilled."
      ],
      "metadata": {
        "id": "JMSaClv3E5cp"
      }
    },
    {
      "cell_type": "code",
      "source": [
        "# Nominal parameters\n",
        "par(S_min=1.0, time_final_max=6.0, X_final_min=5.0)\n",
        "init(VX_start=2, VS_start=10)\n",
        "par(Y=0.5, qSmax=0.5, Ks=0.1)"
      ],
      "metadata": {
        "id": "i-FCXfRUJDvc",
        "colab": {
          "base_uri": "https://localhost:8080/",
          "height": 193
        },
        "outputId": "76bd4647-44a7-45f8-8c65-ebaf874a11b1"
      },
      "execution_count": null,
      "outputs": [
        {
          "output_type": "error",
          "ename": "NameError",
          "evalue": "name 'par' is not defined",
          "traceback": [
            "\u001b[0;31m---------------------------------------------------------------------------\u001b[0m",
            "\u001b[0;31mNameError\u001b[0m                                 Traceback (most recent call last)",
            "\u001b[0;32m/content/BPL_TEST2_Batch_design_space/BPL_TEST2_Batch_no_noise_fmpy_explore.py\u001b[0m in \u001b[0;36m<cell line: 2>\u001b[0;34m()\u001b[0m\n\u001b[1;32m      1\u001b[0m \u001b[0;31m# Nominal parameters\u001b[0m\u001b[0;34m\u001b[0m\u001b[0;34m\u001b[0m\u001b[0m\n\u001b[0;32m----> 2\u001b[0;31m \u001b[0mpar\u001b[0m\u001b[0;34m(\u001b[0m\u001b[0mS_min\u001b[0m\u001b[0;34m=\u001b[0m\u001b[0;36m1.0\u001b[0m\u001b[0;34m,\u001b[0m \u001b[0mtime_final_max\u001b[0m\u001b[0;34m=\u001b[0m\u001b[0;36m6.0\u001b[0m\u001b[0;34m,\u001b[0m \u001b[0mX_final_min\u001b[0m\u001b[0;34m=\u001b[0m\u001b[0;36m5.0\u001b[0m\u001b[0;34m)\u001b[0m\u001b[0;34m\u001b[0m\u001b[0;34m\u001b[0m\u001b[0m\n\u001b[0m\u001b[1;32m      3\u001b[0m \u001b[0minit\u001b[0m\u001b[0;34m(\u001b[0m\u001b[0mVX_start\u001b[0m\u001b[0;34m=\u001b[0m\u001b[0;36m2\u001b[0m\u001b[0;34m,\u001b[0m \u001b[0mVS_start\u001b[0m\u001b[0;34m=\u001b[0m\u001b[0;36m10\u001b[0m\u001b[0;34m)\u001b[0m\u001b[0;34m\u001b[0m\u001b[0;34m\u001b[0m\u001b[0m\n\u001b[1;32m      4\u001b[0m \u001b[0mpar\u001b[0m\u001b[0;34m(\u001b[0m\u001b[0mY\u001b[0m\u001b[0;34m=\u001b[0m\u001b[0;36m0.5\u001b[0m\u001b[0;34m,\u001b[0m \u001b[0mqSmax\u001b[0m\u001b[0;34m=\u001b[0m\u001b[0;36m0.5\u001b[0m\u001b[0;34m,\u001b[0m \u001b[0mKs\u001b[0m\u001b[0;34m=\u001b[0m\u001b[0;36m0.1\u001b[0m\u001b[0;34m)\u001b[0m\u001b[0;34m\u001b[0m\u001b[0;34m\u001b[0m\u001b[0m\n",
            "\u001b[0;31mNameError\u001b[0m: name 'par' is not defined"
          ]
        }
      ]
    },
    {
      "cell_type": "code",
      "source": [
        "# Simulation of nominal parameters that gives a batch that meed the end criteria\n",
        "newplot(plotType='TimeSeries_2')\n",
        "simu(8)"
      ],
      "metadata": {
        "id": "nJo_ZejCI-BT"
      },
      "execution_count": null,
      "outputs": []
    },
    {
      "cell_type": "code",
      "source": [
        "# Exammple of process parameter changes and how they meet the end criteria\n",
        "newplot(plotType='TimeSeries_2')\n",
        "par(Y=0.50, qSmax=0.50); simu(8)  # - pass (solid line)\n",
        "par(Y=0.50, qSmax=0.40); simu(8)  # - fail criteria time_final < 6.0 (dashed line)\n",
        "par(Y=0.30, qSmax=0.50); simu(8)  # - fail criteria X_final > 5.0 (dotted line)\n",
        "par(Y=0.30, qSmax=0.40); simu(8)  # - fail both criteria (dash dotted line)"
      ],
      "metadata": {
        "id": "f_GwNooXJCL7"
      },
      "execution_count": null,
      "outputs": []
    },
    {
      "cell_type": "markdown",
      "source": [
        "We see that the accepted batch (solid line) finish first. The batches that fail take longer time and two of them has also lower cell concentration at the end."
      ],
      "metadata": {
        "id": "tgt3SpxyJHwu"
      }
    },
    {
      "cell_type": "markdown",
      "source": [
        "## 1.2 Batch evaluation under process variation - parameter sweep\n",
        "Now let us systematically sweep through a number of combinations of process parameters Y and qSmax and evaluate the batches and visualise the result."
      ],
      "metadata": {
        "id": "LsGOYU4nJN_w"
      }
    },
    {
      "cell_type": "code",
      "source": [
        "# Define sweep ranges and storage of final data\n",
        "nY = 20\n",
        "nqSmax = 20\n",
        "Y_range = np.linspace(0.3,0.5,nY)\n",
        "qSmax_range = np.linspace(0.4,0.6,nqSmax)\n",
        "data = np.zeros([nY,nqSmax,5])"
      ],
      "metadata": {
        "id": "PrS-jkl3JJVf"
      },
      "execution_count": null,
      "outputs": []
    },
    {
      "cell_type": "code",
      "source": [
        "# Run parameter sweep - takes a few minutes\n",
        "newplot(plotType='TimeSeries_2_diagrams')\n",
        "init(VX_start=2, VS_start=10)\n",
        "\n",
        "for j in range(nY):\n",
        "    for k in range(nqSmax):\n",
        "        par(Y=Y_range[j])\n",
        "        par(qSmax=qSmax_range[k])\n",
        "        simu(8)\n",
        "\n",
        "        # Store final results\n",
        "        data[j,k,0] = Y_range[j]\n",
        "        data[j,k,1] = qSmax_range[k]\n",
        "        data[j,k,2] = sim_res['monitor.time_final'][-1]\n",
        "        data[j,k,3] = sim_res['monitor.X_final'][-1]\n",
        "        data[j,k,4] = sim_res['monitor.batch_evaluation'][-1]\n",
        "\n",
        "        # Plot simulation results\n",
        "        if sim_res['monitor.batch_evaluation'][-1] > 0:\n",
        "            ax1.plot(sim_res['time'], sim_res['bioreactor.c[1]'],'b-')\n",
        "            ax2.plot(sim_res['time'], sim_res['bioreactor.c[2]'],'b-')\n",
        "            ax2.plot([0, simulationTime], [model.get('monitor.S_min'), model.get('monitor.S_min')],'g--')\n",
        "            ax3.plot(sim_res['time'], sim_res['bioreactor.culture.q[1]'],'b-')\n",
        "            ax4.step(sim_res['time'],sim_res['monitor.batch_evaluation'],where='post',color='b',linestyle='-')\n",
        "        else:\n",
        "            ax1.plot(sim_res['time'], sim_res['bioreactor.c[1]'],'r-')\n",
        "            ax2.plot(sim_res['time'], sim_res['bioreactor.c[2]'],'r-')\n",
        "            ax2.plot([0, simulationTime], [model.get('monitor.S_min'), model.get('monitor.S_min')],'g--')\n",
        "            ax3.plot(sim_res['time'], sim_res['bioreactor.culture.q[1]'],'r-')\n",
        "            ax4.step(sim_res['time'],sim_res['monitor.batch_evaluation'],where='post',color='r',linestyle='-')\n",
        "\n",
        "plt.show()"
      ],
      "metadata": {
        "id": "ytlcfYUbJYVf"
      },
      "execution_count": null,
      "outputs": []
    },
    {
      "cell_type": "markdown",
      "source": [
        "Batches represented by blue lines are those that in the end got accepted. The red ones failed."
      ],
      "metadata": {
        "id": "mj6TRzrKJeu8"
      }
    },
    {
      "cell_type": "code",
      "source": [
        "# Show end results\n",
        "plt.figure()\n",
        "ax1 = plt.subplot(1,2,1)\n",
        "ax2 = plt.subplot(1,2,2)\n",
        "\n",
        "for j in range(nY):\n",
        "    for k in range(nqSmax):\n",
        "        if data[j,k,4] > 0:\n",
        "            ax1.scatter(data[j,k,0],data[j,k,1],c='b')\n",
        "        else:\n",
        "            ax1.scatter(data[j,k,0],data[j,k,1],c='r')\n",
        "ax1.grid()\n",
        "#plt.axis([0, 0.8, 0, 0.8])\n",
        "ax1.set_ylabel('qSmax [g/g,h]')\n",
        "ax1.set_xlabel('Y [g/g]')\n",
        "ax1.set_title('Process parameter space')\n",
        "\n",
        "for j in range(nY):\n",
        "    for k in range(nqSmax):\n",
        "        if data[j,k,4] > 0:\n",
        "            ax2.scatter(data[j,k,2],data[j,k,3],c='b')\n",
        "        else:\n",
        "            ax2.scatter(data[j,k,2],data[j,k,3],c='r')\n",
        "ax2.grid()\n",
        "#plt.axis([0, 8, 0, 8])\n",
        "ax2.set_xlabel('T_final [h]')\n",
        "ax2.set_ylabel('X_final [g/L]')\n",
        "ax2.set_title('Batch evaluation space')\n",
        "plt.show()"
      ],
      "metadata": {
        "id": "iHX8hZWtJfue"
      },
      "execution_count": null,
      "outputs": []
    },
    {
      "cell_type": "markdown",
      "source": [
        "Here we visualize the previous simulations results in a different way with foucse on the end result. Each dot in the left diagram (process parameter space) represent a simulation that give a result in the rigiht diagam (batch evaluation space). The blue dots are those batches that were accepted and the red ones those that failed.\n",
        "\n",
        "The blue dots in the process parameter space show the \"design space\" for the acceptance criteria we have."
      ],
      "metadata": {
        "id": "PjLpUaeJJnos"
      }
    },
    {
      "cell_type": "markdown",
      "source": [
        "## 2 Batch end detection - with measurement noise\n",
        "\n",
        "Here we load a system model with normal noise added to the sampled value of substrate concentration. The measurement of substrate conentration usually has a higher variation than measuremetn of cell concentration and therefore we focus here on the impact on substrate conentrations.\n",
        "\n",
        "Thus detection of end of batch is now in discrete time with a give samplePeriod (default 0.1 hour). This discreteization also introduce an error in detection of the end point. By changing this sample intervall to shorter values you can see the impact of this error but not done here."
      ],
      "metadata": {
        "id": "vihCtXFwJtM_"
      }
    },
    {
      "cell_type": "code",
      "source": [
        "run -i BPL_TEST2_Batch_with_noise_fmpy_explore.py"
      ],
      "metadata": {
        "id": "v5YUU6PEJo0U"
      },
      "execution_count": null,
      "outputs": []
    },
    {
      "cell_type": "markdown",
      "source": [
        "## 2.1 Batch evaluation under substrate measurement error\n",
        "\n",
        "Here we see an example of how substrate measurement noise directly affect the evaluation of the batch from accetable to not acceptable."
      ],
      "metadata": {
        "id": "NqOhqSEnJ0Tg"
      }
    },
    {
      "cell_type": "code",
      "source": [
        "# Nominal parameters\n",
        "par(S_min=1.0, time_final_max=6.0, X_final_min=5.0)\n",
        "init(VX_start=2, VS_start=10)\n",
        "par(Y=0.5, qSmax=0.5, Ks=0.1)\n",
        "par(sigma=0.48, samplePeriod=0.1)"
      ],
      "metadata": {
        "id": "HNe6dtHHJ1Zk"
      },
      "execution_count": null,
      "outputs": []
    },
    {
      "cell_type": "code",
      "source": [
        "# Simulation of nominal parameters that gives a batch that meed the end criteria\n",
        "newplot(plotType='TimeSeries_2')\n",
        "par(Y=0.5, qSmax=0.4);\n",
        "for value in [2,3,5]: par(seed=value); simu(8)"
      ],
      "metadata": {
        "id": "uZYfdQVQJ6oR"
      },
      "execution_count": null,
      "outputs": []
    },
    {
      "cell_type": "markdown",
      "source": [
        "## 2.2 Batch evaluation under process variation and measurement error - parameter sweep\n",
        "\n",
        "Now let us again systematically sweep through a number of combinations of process parameters Y and qSmax and evaluate the batches and visualise their result."
      ],
      "metadata": {
        "id": "TcknMcBdJ_d5"
      }
    },
    {
      "cell_type": "code",
      "source": [
        "# Define sweep ranges and storage of final data\n",
        "nY = 20\n",
        "nqSmax = 20\n",
        "Y_range = np.linspace(0.3,0.5,nY)\n",
        "qSmax_range = np.linspace(0.4,0.6,nqSmax)\n",
        "data = np.zeros([nY,nqSmax,5])"
      ],
      "metadata": {
        "id": "HTmJ66XjKAUq"
      },
      "execution_count": null,
      "outputs": []
    },
    {
      "cell_type": "code",
      "source": [
        "# Run parameter sweep - takes a few minuts\n",
        "newplot(plotType='TimeSeries_2_diagrams')\n",
        "par(sigma=0.48, seed=1, samplePeriod=0.1)\n",
        "\n",
        "for j in range(nY):\n",
        "    for k in range(nqSmax):\n",
        "        par(Y=Y_range[j])\n",
        "        par(qSmax=qSmax_range[k])\n",
        "        simu(8)\n",
        "\n",
        "        # Store final results\n",
        "        data[j,k,0] = Y_range[j]\n",
        "        data[j,k,1] = qSmax_range[k]\n",
        "        data[j,k,2] = sim_res['monitor.time_final'][-1]\n",
        "        data[j,k,3] = sim_res['monitor.X_final'][-1]\n",
        "        data[j,k,4] = sim_res['monitor.batch_evaluation'][-1]\n",
        "\n",
        "        # Plot simulation results\n",
        "        if sim_res['monitor.batch_evaluation'][-1] > 0:\n",
        "            ax1.plot(sim_res['time'], sim_res['bioreactor.c[1]'],'b-')\n",
        "            ax2.plot(sim_res['time'], sim_res['bioreactor.c[2]'],'b-')\n",
        "            ax3.plot(sim_res['time'], sim_res['bioreactor.culture.q[1]'],'b-')\n",
        "            ax4.plot(sim_res['time'], sim_res['sensor.out.c[2]'],'b-')\n",
        "            ax4.plot([0, simulationTime], [model.get('monitor.S_min'), model.get('monitor.S_min')],'g--')\n",
        "            ax5.step(sim_res['time'],sim_res['monitor.batch_evaluation'],where='post',color='b',linestyle='-')\n",
        "        else:\n",
        "            ax1.plot(sim_res['time'], sim_res['bioreactor.c[1]'],'r-')\n",
        "            ax2.plot(sim_res['time'], sim_res['bioreactor.c[2]'],'r-')\n",
        "            ax3.plot(sim_res['time'], sim_res['bioreactor.culture.q[1]'],'r-')\n",
        "            ax4.plot(sim_res['time'], sim_res['sensor.out.c[2]'],'r-')\n",
        "            ax4.plot([0, simulationTime], [model.get('monitor.S_min'), model.get('monitor.S_min')],'g--')\n",
        "            ax5.step(sim_res['time'],sim_res['monitor.batch_evaluation'],where='post',color='r',linestyle='-')\n",
        "\n",
        "plt.show()"
      ],
      "metadata": {
        "id": "JjjM6uouKFHZ"
      },
      "execution_count": null,
      "outputs": []
    },
    {
      "cell_type": "code",
      "source": [
        "# Show end results\n",
        "plt.figure()\n",
        "ax1 = plt.subplot(1,2,1)\n",
        "ax2 = plt.subplot(1,2,2)\n",
        "\n",
        "for j in range(nY):\n",
        "    for k in range(nqSmax):\n",
        "        if data[j,k,4] > 0:\n",
        "            ax1.scatter(data[j,k,0],data[j,k,1],c='b')\n",
        "        else:\n",
        "            ax1.scatter(data[j,k,0],data[j,k,1],c='r')\n",
        "ax1.grid()\n",
        "#plt.axis([0, 0.8, 0, 0.8])\n",
        "ax1.set_ylabel('qSmax [g/g,h]')\n",
        "ax1.set_xlabel('Y [g/g]')\n",
        "ax1.set_title('Process parameter space')\n",
        "\n",
        "for j in range(nY):\n",
        "    for k in range(nqSmax):\n",
        "        if data[j,k,4] > 0:\n",
        "            ax2.scatter(data[j,k,2],data[j,k,3],c='b')\n",
        "        else:\n",
        "            ax2.scatter(data[j,k,2],data[j,k,3],c='r')\n",
        "ax2.grid()\n",
        "#plt.axis([0, 8, 0, 8])\n",
        "ax2.set_xlabel('T_final [h]')\n",
        "ax2.set_ylabel('X_final [g/L]')\n",
        "ax2.set_title('Batch evaluation space')\n",
        "plt.show()"
      ],
      "metadata": {
        "id": "9BbqAoJRKLW8"
      },
      "execution_count": null,
      "outputs": []
    },
    {
      "cell_type": "markdown",
      "source": [
        "We see that we get somwehat different results in the parameter space. The acceptable region with blue dots (design space) get a more rounded corner. The vertical left line is also more rugged.\n",
        "\n",
        "With much more simulations we could get a better idea of the probablity that a batch is accepted and determine the design space in proabilistic sense.  "
      ],
      "metadata": {
        "id": "NVjpueTCKQWv"
      }
    },
    {
      "cell_type": "markdown",
      "source": [
        "## 3 Summary\n",
        "\n",
        "We have worked through a simple example of evaluation of batch cuöture with given acceptance criteria and how that criteria can be translated to acceptable variation in process parameters, i.e. the design space.\n",
        "\n",
        "In the deterministic case we get a rather clear cut design space.\n",
        "\n",
        "In the more realistic case with subsrate measurment noise included we get a more complicated design space, but still similar.\n",
        "\n",
        "The stochastic model introduce erorrs both due to the added normal noise in the substrate concentration, and due to the fact that we use time discrete system for the noise. The impact of the time discrete check when batch has ended can be made smaller by chosing a smaller sample intervall. This was not studied here and is left for the interested reader.\n",
        "\n",
        "Note..."
      ],
      "metadata": {
        "id": "N1AwPMLJKVJQ"
      }
    },
    {
      "cell_type": "markdown",
      "source": [
        "## References\n",
        "\n",
        "[1] Axelsson J.P. and A. Elsheikh: “An example of sensitivity analysis of a bioprocess using Bioprocess Library for Modelica”, Proceedings MODPROD, Linköping, Sweden 2019, see presentation\n",
        "[here](https://modprodblog.wordpress.com/modprod-2019/)."
      ],
      "metadata": {
        "id": "jYz0v7m7KZm5"
      }
    },
    {
      "cell_type": "markdown",
      "source": [
        "## Appendix"
      ],
      "metadata": {
        "id": "pVMUuqPOKhfO"
      }
    },
    {
      "cell_type": "code",
      "source": [
        "describe('parts')"
      ],
      "metadata": {
        "id": "ff0MCegVKSC0"
      },
      "execution_count": null,
      "outputs": []
    },
    {
      "cell_type": "code",
      "source": [
        "describe('MSL')"
      ],
      "metadata": {
        "id": "l5zDoRbOKoW5"
      },
      "execution_count": null,
      "outputs": []
    },
    {
      "cell_type": "code",
      "source": [
        "system_info()"
      ],
      "metadata": {
        "id": "mUFH0C7DKpek"
      },
      "execution_count": null,
      "outputs": []
    }
  ]
}