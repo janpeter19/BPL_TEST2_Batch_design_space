{
  "nbformat": 4,
  "nbformat_minor": 0,
  "metadata": {
    "colab": {
      "provenance": [],
      "authorship_tag": "ABX9TyMldkaSeLT1rhbM9JW58rEm",
      "include_colab_link": true
    },
    "kernelspec": {
      "name": "python3",
      "display_name": "Python 3"
    },
    "language_info": {
      "name": "python"
    }
  },
  "cells": [
    {
      "cell_type": "markdown",
      "metadata": {
        "id": "view-in-github",
        "colab_type": "text"
      },
      "source": [
        "<a href=\"https://colab.research.google.com/github/janpeter19/BPL_TEST2_Batch_design_space/blob/main/BPL_TEST2_Batch_design_space_fmpy_colab.ipynb\" target=\"_parent\"><img src=\"https://colab.research.google.com/assets/colab-badge.svg\" alt=\"Open In Colab\"/></a>"
      ]
    },
    {
      "cell_type": "markdown",
      "source": [
        "# BPL_TEST2_Batch_design_space script with FMPy\n",
        "\n",
        "The key library FMPy is installed.\n",
        "\n",
        "After the installation a small application BPL_TEST2_Batch_design_space is loaded and run. You can continue with this example if you like."
      ],
      "metadata": {
        "id": "UFcMzs4Y3HwH"
      }
    },
    {
      "cell_type": "code",
      "execution_count": 1,
      "metadata": {
        "colab": {
          "base_uri": "https://localhost:8080/"
        },
        "id": "ID68dwep2zus",
        "outputId": "9cbc816a-733a-4aba-c5d8-18594dbb4f71"
      },
      "outputs": [
        {
          "output_type": "stream",
          "name": "stdout",
          "text": [
            "No LSB modules are available.\n",
            "Distributor ID:\tUbuntu\n",
            "Description:\tUbuntu 22.04.4 LTS\n",
            "Release:\t22.04\n",
            "Codename:\tjammy\n"
          ]
        }
      ],
      "source": [
        "!lsb_release -a # Actual VM Ubuntu version used by Google"
      ]
    },
    {
      "cell_type": "code",
      "source": [
        "%env PYTHONPATH="
      ],
      "metadata": {
        "colab": {
          "base_uri": "https://localhost:8080/"
        },
        "id": "pVDcSg-j3SSV",
        "outputId": "6151f297-522e-492f-9a54-9969c82cf75e"
      },
      "execution_count": 2,
      "outputs": [
        {
          "output_type": "stream",
          "name": "stdout",
          "text": [
            "env: PYTHONPATH=\n"
          ]
        }
      ]
    },
    {
      "cell_type": "code",
      "source": [
        "!python --version"
      ],
      "metadata": {
        "id": "r40UZ71m6TQz",
        "outputId": "6d5043fa-f615-4eb6-9bab-c4b1870132c1",
        "colab": {
          "base_uri": "https://localhost:8080/"
        }
      },
      "execution_count": 3,
      "outputs": [
        {
          "output_type": "stream",
          "name": "stdout",
          "text": [
            "Python 3.11.11\n"
          ]
        }
      ]
    },
    {
      "cell_type": "code",
      "source": [
        "!wget https://repo.anaconda.com/miniconda/Miniconda3-py311_24.11.1-0-Linux-x86_64.sh\n",
        "!chmod +x Miniconda3-py311_24.11.1-0-Linux-x86_64.sh\n",
        "!bash ./Miniconda3-py311_24.11.1-0-Linux-x86_64.sh -b -f -p /usr/local\n",
        "import sys\n",
        "sys.path.append('/usr/local/lib/python3.11/site-packages/')"
      ],
      "metadata": {
        "colab": {
          "base_uri": "https://localhost:8080/"
        },
        "id": "04VeBmLU3UFx",
        "outputId": "d6c677f3-8892-40d7-c12a-3a0533258834"
      },
      "execution_count": 4,
      "outputs": [
        {
          "output_type": "stream",
          "name": "stdout",
          "text": [
            "--2025-02-08 09:45:21--  https://repo.anaconda.com/miniconda/Miniconda3-py311_24.11.1-0-Linux-x86_64.sh\n",
            "Resolving repo.anaconda.com (repo.anaconda.com)... 104.16.32.241, 104.16.191.158, 2606:4700::6810:bf9e, ...\n",
            "Connecting to repo.anaconda.com (repo.anaconda.com)|104.16.32.241|:443... connected.\n",
            "HTTP request sent, awaiting response... 200 OK\n",
            "Length: 145900576 (139M) [application/octet-stream]\n",
            "Saving to: ‘Miniconda3-py311_24.11.1-0-Linux-x86_64.sh.1’\n",
            "\n",
            "Miniconda3-py311_24 100%[===================>] 139.14M   139MB/s    in 1.0s    \n",
            "\n",
            "2025-02-08 09:45:23 (139 MB/s) - ‘Miniconda3-py311_24.11.1-0-Linux-x86_64.sh.1’ saved [145900576/145900576]\n",
            "\n",
            "PREFIX=/usr/local\n",
            "Unpacking payload ...\n",
            "\n",
            "Installing base environment...\n",
            "\n",
            "Preparing transaction: ...working... done\n",
            "Executing transaction: ...working... done\n",
            "installation finished.\n"
          ]
        }
      ]
    },
    {
      "cell_type": "code",
      "source": [
        "!conda update -n base -c defaults conda --yes"
      ],
      "metadata": {
        "colab": {
          "base_uri": "https://localhost:8080/"
        },
        "id": "5iuP4_vl3WFA",
        "outputId": "3a01c976-0720-446a-f9b9-802288c63a6a"
      },
      "execution_count": 5,
      "outputs": [
        {
          "output_type": "stream",
          "name": "stdout",
          "text": [
            "Channels:\n",
            " - defaults\n",
            " - conda-forge\n",
            "Platform: linux-64\n",
            "Collecting package metadata (repodata.json): - \b\b\\ \b\b| \b\b/ \b\b- \b\b\\ \b\b| \b\b/ \b\b- \b\b\\ \b\b| \b\b/ \b\b- \b\b\\ \b\b| \b\b/ \b\b- \b\b\\ \b\b| \b\b/ \b\b- \b\b\\ \b\b| \b\b/ \b\b- \b\b\\ \b\b| \b\b/ \b\b- \b\b\\ \b\b| \b\b/ \b\b- \b\b\\ \b\b| \b\b/ \b\b- \b\b\\ \b\b| \b\b/ \b\b- \b\b\\ \b\b| \b\b/ \b\b- \b\b\\ \b\b| \b\b/ \b\b- \b\b\\ \b\b| \b\b/ \b\b- \b\b\\ \b\b| \b\b/ \b\b- \b\bdone\n",
            "Solving environment: | \b\b/ \b\b- \b\b\\ \b\b| \b\b/ \b\b- \b\b\\ \b\b| \b\bdone\n",
            "\n",
            "## Package Plan ##\n",
            "\n",
            "  environment location: /usr/local\n",
            "\n",
            "  added / updated specs:\n",
            "    - conda\n",
            "\n",
            "\n",
            "The following packages will be UPDATED:\n",
            "\n",
            "  ca-certificates                     2024.11.26-h06a4308_0 --> 2024.12.31-h06a4308_0 \n",
            "  certifi                         2024.8.30-py311h06a4308_0 --> 2025.1.31-py311h06a4308_0 \n",
            "\n",
            "\n",
            "\n",
            "Downloading and Extracting Packages:\n",
            "\n",
            "Preparing transaction: - \b\bdone\n",
            "Verifying transaction: | \b\bdone\n",
            "Executing transaction: - \b\bdone\n"
          ]
        }
      ]
    },
    {
      "cell_type": "code",
      "source": [
        "!conda --version\n",
        "!python --version"
      ],
      "metadata": {
        "colab": {
          "base_uri": "https://localhost:8080/"
        },
        "id": "uoBMBSS63Z58",
        "outputId": "3674e396-7f0e-427c-899b-81c2921c5e87"
      },
      "execution_count": 6,
      "outputs": [
        {
          "output_type": "stream",
          "name": "stdout",
          "text": [
            "conda 24.11.1\n",
            "Python 3.11.11\n"
          ]
        }
      ]
    },
    {
      "cell_type": "code",
      "source": [
        "!conda config --set channel_priority strict"
      ],
      "metadata": {
        "id": "4LL64Mr_8nIv"
      },
      "execution_count": 7,
      "outputs": []
    },
    {
      "cell_type": "code",
      "source": [
        "!conda install -c conda-forge fmpy --yes # Install the key package"
      ],
      "metadata": {
        "id": "KEl8q9gH6xXx",
        "outputId": "8b4d9195-2176-4eaf-ab3f-c62405e3b5d8",
        "colab": {
          "base_uri": "https://localhost:8080/"
        }
      },
      "execution_count": 8,
      "outputs": [
        {
          "output_type": "stream",
          "name": "stdout",
          "text": [
            "Channels:\n",
            " - conda-forge\n",
            " - defaults\n",
            "Platform: linux-64\n",
            "Collecting package metadata (repodata.json): - \b\b\\ \b\b| \b\b/ \b\b- \b\b\\ \b\b| \b\b/ \b\b- \b\b\\ \b\b| \b\b/ \b\b- \b\b\\ \b\b| \b\b/ \b\b- \b\b\\ \b\b| \b\b/ \b\b- \b\b\\ \b\b| \b\b/ \b\b- \b\b\\ \b\b| \b\b/ \b\b- \b\b\\ \b\b| \b\b/ \b\b- \b\b\\ \b\b| \b\b/ \b\b- \b\b\\ \b\b| \b\b/ \b\b- \b\b\\ \b\bdone\n",
            "Solving environment: / \b\b- \b\b\\ \b\b| \b\b/ \b\b- \b\b\\ \b\b| \b\b/ \b\bdone\n",
            "\n",
            "## Package Plan ##\n",
            "\n",
            "  environment location: /usr/local\n",
            "\n",
            "  added / updated specs:\n",
            "    - fmpy\n",
            "\n",
            "\n",
            "The following packages will be UPDATED:\n",
            "\n",
            "  ca-certificates    pkgs/main::ca-certificates-2024.12.31~ --> conda-forge::ca-certificates-2025.1.31-hbcca054_0 \n",
            "  conda              pkgs/main::conda-24.11.1-py311h06a430~ --> conda-forge::conda-25.1.1-py311h38be061_0 \n",
            "  openssl              pkgs/main::openssl-3.0.15-h5eee18b_0 --> conda-forge::openssl-3.4.0-h7b32b05_1 \n",
            "\n",
            "\n",
            "\n",
            "Downloading and Extracting Packages:\n",
            "\n",
            "Preparing transaction: - \b\bdone\n",
            "Verifying transaction: | \b\b/ \b\bdone\n",
            "Executing transaction: \\ \b\bdone\n"
          ]
        }
      ]
    },
    {
      "cell_type": "code",
      "source": [
        "!conda install -c conda-forge fmpy --yes # Install the key package"
      ],
      "metadata": {
        "colab": {
          "base_uri": "https://localhost:8080/"
        },
        "id": "RMuJRdfH3dDq",
        "outputId": "a1bf6857-ffc0-451b-9b44-1223e621191c"
      },
      "execution_count": 9,
      "outputs": [
        {
          "output_type": "stream",
          "name": "stdout",
          "text": [
            "Channels:\n",
            " - conda-forge\n",
            " - defaults\n",
            "Platform: linux-64\n",
            "Collecting package metadata (repodata.json): - \b\b\\ \b\b| \b\b/ \b\b- \b\b\\ \b\b| \b\b/ \b\b- \b\b\\ \b\b| \b\b/ \b\b- \b\b\\ \b\b| \b\b/ \b\b- \b\b\\ \b\b| \b\b/ \b\b- \b\b\\ \b\b| \b\b/ \b\b- \b\b\\ \b\b| \b\b/ \b\b- \b\b\\ \b\b| \b\b/ \b\bdone\n",
            "Solving environment: \\ \b\b| \b\b/ \b\b- \b\b\\ \b\b| \b\b/ \b\b- \b\b\\ \b\b| \b\bdone\n",
            "\n",
            "# All requested packages already installed.\n",
            "\n"
          ]
        }
      ]
    },
    {
      "cell_type": "markdown",
      "source": [
        "Now specific installation and the run simulations. Start with connecting to Github. Then upload the four files:\n",
        "\n",
        "* FMU - BPL_TEST2_Batch_design_space_no_noise_linux_om_me.fmu\n",
        "* Setup-file - BPL_TEST2_Batch_design_space_no_noise_fmpy_explore.py\n",
        "* FMU - BPL_TEST2_Batch_design_space_with_noise_linux_om_me.fmu\n",
        "* Setup-file - BPL_TEST2_Batch_design_space_with_noise_fmpy_\n",
        "explore.py\n"
      ],
      "metadata": {
        "id": "mxILgQ103nZ6"
      }
    },
    {
      "cell_type": "code",
      "source": [
        "# Filter out DepracationWarnings for 'np.float as alias' is needed - wish I could make filter more narrow\n",
        "import warnings\n",
        "warnings.filterwarnings(\"ignore\")"
      ],
      "metadata": {
        "id": "RrYshFe13jmO"
      },
      "execution_count": 10,
      "outputs": []
    },
    {
      "cell_type": "code",
      "source": [
        "%%bash\n",
        "git clone https://github.com/janpeter19/BPL_TEST2_Batch_design_space"
      ],
      "metadata": {
        "colab": {
          "base_uri": "https://localhost:8080/",
          "height": 373
        },
        "id": "RfWPh1B63yBF",
        "outputId": "541a6c37-7b42-4bbc-bb35-cdba99d4860b"
      },
      "execution_count": 11,
      "outputs": [
        {
          "output_type": "stream",
          "name": "stderr",
          "text": [
            "fatal: destination path 'BPL_TEST2_Batch_design_space' already exists and is not an empty directory.\n"
          ]
        },
        {
          "output_type": "error",
          "ename": "CalledProcessError",
          "evalue": "Command 'b'git clone https://github.com/janpeter19/BPL_TEST2_Batch_design_space\\n'' returned non-zero exit status 128.",
          "traceback": [
            "\u001b[0;31m---------------------------------------------------------------------------\u001b[0m",
            "\u001b[0;31mCalledProcessError\u001b[0m                        Traceback (most recent call last)",
            "\u001b[0;32m<ipython-input-11-59f487e2d664>\u001b[0m in \u001b[0;36m<cell line: 0>\u001b[0;34m()\u001b[0m\n\u001b[0;32m----> 1\u001b[0;31m \u001b[0mget_ipython\u001b[0m\u001b[0;34m(\u001b[0m\u001b[0;34m)\u001b[0m\u001b[0;34m.\u001b[0m\u001b[0mrun_cell_magic\u001b[0m\u001b[0;34m(\u001b[0m\u001b[0;34m'bash'\u001b[0m\u001b[0;34m,\u001b[0m \u001b[0;34m''\u001b[0m\u001b[0;34m,\u001b[0m \u001b[0;34m'git clone https://github.com/janpeter19/BPL_TEST2_Batch_design_space\\n'\u001b[0m\u001b[0;34m)\u001b[0m\u001b[0;34m\u001b[0m\u001b[0;34m\u001b[0m\u001b[0m\n\u001b[0m",
            "\u001b[0;32m/usr/local/lib/python3.11/dist-packages/google/colab/_shell.py\u001b[0m in \u001b[0;36mrun_cell_magic\u001b[0;34m(self, magic_name, line, cell)\u001b[0m\n\u001b[1;32m    332\u001b[0m     \u001b[0;32mif\u001b[0m \u001b[0mline\u001b[0m \u001b[0;32mand\u001b[0m \u001b[0;32mnot\u001b[0m \u001b[0mcell\u001b[0m\u001b[0;34m:\u001b[0m\u001b[0;34m\u001b[0m\u001b[0;34m\u001b[0m\u001b[0m\n\u001b[1;32m    333\u001b[0m       \u001b[0mcell\u001b[0m \u001b[0;34m=\u001b[0m \u001b[0;34m' '\u001b[0m\u001b[0;34m\u001b[0m\u001b[0;34m\u001b[0m\u001b[0m\n\u001b[0;32m--> 334\u001b[0;31m     \u001b[0;32mreturn\u001b[0m \u001b[0msuper\u001b[0m\u001b[0;34m(\u001b[0m\u001b[0;34m)\u001b[0m\u001b[0;34m.\u001b[0m\u001b[0mrun_cell_magic\u001b[0m\u001b[0;34m(\u001b[0m\u001b[0mmagic_name\u001b[0m\u001b[0;34m,\u001b[0m \u001b[0mline\u001b[0m\u001b[0;34m,\u001b[0m \u001b[0mcell\u001b[0m\u001b[0;34m)\u001b[0m\u001b[0;34m\u001b[0m\u001b[0;34m\u001b[0m\u001b[0m\n\u001b[0m\u001b[1;32m    335\u001b[0m \u001b[0;34m\u001b[0m\u001b[0m\n\u001b[1;32m    336\u001b[0m \u001b[0;34m\u001b[0m\u001b[0m\n",
            "\u001b[0;32m/usr/local/lib/python3.11/dist-packages/IPython/core/interactiveshell.py\u001b[0m in \u001b[0;36mrun_cell_magic\u001b[0;34m(self, magic_name, line, cell)\u001b[0m\n\u001b[1;32m   2471\u001b[0m             \u001b[0;32mwith\u001b[0m \u001b[0mself\u001b[0m\u001b[0;34m.\u001b[0m\u001b[0mbuiltin_trap\u001b[0m\u001b[0;34m:\u001b[0m\u001b[0;34m\u001b[0m\u001b[0;34m\u001b[0m\u001b[0m\n\u001b[1;32m   2472\u001b[0m                 \u001b[0margs\u001b[0m \u001b[0;34m=\u001b[0m \u001b[0;34m(\u001b[0m\u001b[0mmagic_arg_s\u001b[0m\u001b[0;34m,\u001b[0m \u001b[0mcell\u001b[0m\u001b[0;34m)\u001b[0m\u001b[0;34m\u001b[0m\u001b[0;34m\u001b[0m\u001b[0m\n\u001b[0;32m-> 2473\u001b[0;31m                 \u001b[0mresult\u001b[0m \u001b[0;34m=\u001b[0m \u001b[0mfn\u001b[0m\u001b[0;34m(\u001b[0m\u001b[0;34m*\u001b[0m\u001b[0margs\u001b[0m\u001b[0;34m,\u001b[0m \u001b[0;34m**\u001b[0m\u001b[0mkwargs\u001b[0m\u001b[0;34m)\u001b[0m\u001b[0;34m\u001b[0m\u001b[0;34m\u001b[0m\u001b[0m\n\u001b[0m\u001b[1;32m   2474\u001b[0m             \u001b[0;32mreturn\u001b[0m \u001b[0mresult\u001b[0m\u001b[0;34m\u001b[0m\u001b[0;34m\u001b[0m\u001b[0m\n\u001b[1;32m   2475\u001b[0m \u001b[0;34m\u001b[0m\u001b[0m\n",
            "\u001b[0;32m/usr/local/lib/python3.11/dist-packages/IPython/core/magics/script.py\u001b[0m in \u001b[0;36mnamed_script_magic\u001b[0;34m(line, cell)\u001b[0m\n\u001b[1;32m    140\u001b[0m             \u001b[0;32melse\u001b[0m\u001b[0;34m:\u001b[0m\u001b[0;34m\u001b[0m\u001b[0;34m\u001b[0m\u001b[0m\n\u001b[1;32m    141\u001b[0m                 \u001b[0mline\u001b[0m \u001b[0;34m=\u001b[0m \u001b[0mscript\u001b[0m\u001b[0;34m\u001b[0m\u001b[0;34m\u001b[0m\u001b[0m\n\u001b[0;32m--> 142\u001b[0;31m             \u001b[0;32mreturn\u001b[0m \u001b[0mself\u001b[0m\u001b[0;34m.\u001b[0m\u001b[0mshebang\u001b[0m\u001b[0;34m(\u001b[0m\u001b[0mline\u001b[0m\u001b[0;34m,\u001b[0m \u001b[0mcell\u001b[0m\u001b[0;34m)\u001b[0m\u001b[0;34m\u001b[0m\u001b[0;34m\u001b[0m\u001b[0m\n\u001b[0m\u001b[1;32m    143\u001b[0m \u001b[0;34m\u001b[0m\u001b[0m\n\u001b[1;32m    144\u001b[0m         \u001b[0;31m# write a basic docstring:\u001b[0m\u001b[0;34m\u001b[0m\u001b[0;34m\u001b[0m\u001b[0m\n",
            "\u001b[0;32m<decorator-gen-103>\u001b[0m in \u001b[0;36mshebang\u001b[0;34m(self, line, cell)\u001b[0m\n",
            "\u001b[0;32m/usr/local/lib/python3.11/dist-packages/IPython/core/magic.py\u001b[0m in \u001b[0;36m<lambda>\u001b[0;34m(f, *a, **k)\u001b[0m\n\u001b[1;32m    185\u001b[0m     \u001b[0;31m# but it's overkill for just that one bit of state.\u001b[0m\u001b[0;34m\u001b[0m\u001b[0;34m\u001b[0m\u001b[0m\n\u001b[1;32m    186\u001b[0m     \u001b[0;32mdef\u001b[0m \u001b[0mmagic_deco\u001b[0m\u001b[0;34m(\u001b[0m\u001b[0marg\u001b[0m\u001b[0;34m)\u001b[0m\u001b[0;34m:\u001b[0m\u001b[0;34m\u001b[0m\u001b[0;34m\u001b[0m\u001b[0m\n\u001b[0;32m--> 187\u001b[0;31m         \u001b[0mcall\u001b[0m \u001b[0;34m=\u001b[0m \u001b[0;32mlambda\u001b[0m \u001b[0mf\u001b[0m\u001b[0;34m,\u001b[0m \u001b[0;34m*\u001b[0m\u001b[0ma\u001b[0m\u001b[0;34m,\u001b[0m \u001b[0;34m**\u001b[0m\u001b[0mk\u001b[0m\u001b[0;34m:\u001b[0m \u001b[0mf\u001b[0m\u001b[0;34m(\u001b[0m\u001b[0;34m*\u001b[0m\u001b[0ma\u001b[0m\u001b[0;34m,\u001b[0m \u001b[0;34m**\u001b[0m\u001b[0mk\u001b[0m\u001b[0;34m)\u001b[0m\u001b[0;34m\u001b[0m\u001b[0;34m\u001b[0m\u001b[0m\n\u001b[0m\u001b[1;32m    188\u001b[0m \u001b[0;34m\u001b[0m\u001b[0m\n\u001b[1;32m    189\u001b[0m         \u001b[0;32mif\u001b[0m \u001b[0mcallable\u001b[0m\u001b[0;34m(\u001b[0m\u001b[0marg\u001b[0m\u001b[0;34m)\u001b[0m\u001b[0;34m:\u001b[0m\u001b[0;34m\u001b[0m\u001b[0;34m\u001b[0m\u001b[0m\n",
            "\u001b[0;32m/usr/local/lib/python3.11/dist-packages/IPython/core/magics/script.py\u001b[0m in \u001b[0;36mshebang\u001b[0;34m(self, line, cell)\u001b[0m\n\u001b[1;32m    243\u001b[0m             \u001b[0msys\u001b[0m\u001b[0;34m.\u001b[0m\u001b[0mstderr\u001b[0m\u001b[0;34m.\u001b[0m\u001b[0mflush\u001b[0m\u001b[0;34m(\u001b[0m\u001b[0;34m)\u001b[0m\u001b[0;34m\u001b[0m\u001b[0;34m\u001b[0m\u001b[0m\n\u001b[1;32m    244\u001b[0m         \u001b[0;32mif\u001b[0m \u001b[0margs\u001b[0m\u001b[0;34m.\u001b[0m\u001b[0mraise_error\u001b[0m \u001b[0;32mand\u001b[0m \u001b[0mp\u001b[0m\u001b[0;34m.\u001b[0m\u001b[0mreturncode\u001b[0m\u001b[0;34m!=\u001b[0m\u001b[0;36m0\u001b[0m\u001b[0;34m:\u001b[0m\u001b[0;34m\u001b[0m\u001b[0;34m\u001b[0m\u001b[0m\n\u001b[0;32m--> 245\u001b[0;31m             \u001b[0;32mraise\u001b[0m \u001b[0mCalledProcessError\u001b[0m\u001b[0;34m(\u001b[0m\u001b[0mp\u001b[0m\u001b[0;34m.\u001b[0m\u001b[0mreturncode\u001b[0m\u001b[0;34m,\u001b[0m \u001b[0mcell\u001b[0m\u001b[0;34m,\u001b[0m \u001b[0moutput\u001b[0m\u001b[0;34m=\u001b[0m\u001b[0mout\u001b[0m\u001b[0;34m,\u001b[0m \u001b[0mstderr\u001b[0m\u001b[0;34m=\u001b[0m\u001b[0merr\u001b[0m\u001b[0;34m)\u001b[0m\u001b[0;34m\u001b[0m\u001b[0;34m\u001b[0m\u001b[0m\n\u001b[0m\u001b[1;32m    246\u001b[0m \u001b[0;34m\u001b[0m\u001b[0m\n\u001b[1;32m    247\u001b[0m     \u001b[0;32mdef\u001b[0m \u001b[0m_run_script\u001b[0m\u001b[0;34m(\u001b[0m\u001b[0mself\u001b[0m\u001b[0;34m,\u001b[0m \u001b[0mp\u001b[0m\u001b[0;34m,\u001b[0m \u001b[0mcell\u001b[0m\u001b[0;34m,\u001b[0m \u001b[0mto_close\u001b[0m\u001b[0;34m)\u001b[0m\u001b[0;34m:\u001b[0m\u001b[0;34m\u001b[0m\u001b[0;34m\u001b[0m\u001b[0m\n",
            "\u001b[0;31mCalledProcessError\u001b[0m: Command 'b'git clone https://github.com/janpeter19/BPL_TEST2_Batch_design_space\\n'' returned non-zero exit status 128."
          ]
        }
      ]
    },
    {
      "cell_type": "code",
      "source": [
        "%cd BPL_TEST2_Batch_design_space"
      ],
      "metadata": {
        "id": "i6uOVB44300a"
      },
      "execution_count": null,
      "outputs": []
    },
    {
      "cell_type": "markdown",
      "source": [
        "# BPL_TEST2_Batch_design_space - demo\n",
        "\n",
        "In this notebook the design space for a batch cultivation process is determined and visualized. The example is kept as simple as possible. The culture grow on a substrate S and the cell conentration X inrease until the substrate is consumed. We study the problem first without any measurement noise and then later with measurement noise and use one separate FMU for each.\n",
        "\n",
        "The end criteria for a batch is here when the subdstrate level has decreased below a certain predefined level and that time is called time_final:\n",
        "* S < Smin\n",
        "\n",
        "The evaluation of the batch culture is just in terms of the obtained value of cell concentration at the end in combination with how long time the culture took. The batch is accepted provided the culture fullfil the two requirements:\n",
        "\n",
        "* X_final > X_final_min\n",
        "* Time_final < time_final_max\n",
        "\n",
        "The question is what range of process parameters Y and qSmax that can be allowed to still get accepted batches.\n",
        "\n",
        "Here we simply use brute force and sweep through a number combinations of process parameters and evaluate by simulation the result for each parameter setting. We get rather clear-cut corners in the process parameter space that result in acceptable batches.\n",
        "\n",
        "In the later part we introduce substrate measurement error and in this way introduce some uncertainty in the determination of end of batch. The impact of this measurement noise is that the design space get more rounded corners.\n",
        "\n",
        "The practical experimental approach is usually to just use a few parameter combinations and evaluate these and from that information calculate the design space. Usually \"process linearity\" assumption is used. The combination of this experimental approach with brute force simulation is discussed in reference [1]."
      ],
      "metadata": {
        "id": "UTETJm3l6heL"
      }
    },
    {
      "cell_type": "markdown",
      "source": [
        "## 1 Batch end detection - no measurement noise\n",
        "\n",
        "Here we load a system model without noise. Thus detection of end of batch is an event in continuous time."
      ],
      "metadata": {
        "id": "_8emYHuXEabL"
      }
    },
    {
      "cell_type": "code",
      "source": [
        "run -i BPL_TEST2_Batch_no_noise_fmpy_explore.py"
      ],
      "metadata": {
        "id": "b-y82jZY33cO"
      },
      "execution_count": null,
      "outputs": []
    },
    {
      "cell_type": "code",
      "source": [
        "# Adjust the diagram size\n",
        "%matplotlib inline\n",
        "plt.rcParams['figure.figsize'] = [30/2.54, 24/2.54]"
      ],
      "metadata": {
        "id": "HUFhuE-H4RCw"
      },
      "execution_count": null,
      "outputs": []
    },
    {
      "cell_type": "markdown",
      "source": [
        "## 1.1 Batch evaluation\n",
        "\n",
        "The first an example of batch that has an end of batch that fulfills the criteria for acceptance.  In the following diagram we see examples of impact of variation on the criteria for acceptance.\n",
        "\n",
        "The variable batch_evaluation goes from 0 to either 1 or a negative value when end of batch is detected. A positive value 1 means that the acceptance criteria is fullfilled and a negative value -1, -2 or -3 is obtained if one or more criteria for acceptance is not fullfilled."
      ],
      "metadata": {
        "id": "JMSaClv3E5cp"
      }
    },
    {
      "cell_type": "code",
      "source": [
        "# Nominal parameters\n",
        "par(S_min=1.0, time_final_max=6.0, X_final_min=5.0)\n",
        "init(VX_start=2, VS_start=10)\n",
        "par(Y=0.5, qSmax=0.5, Ks=0.1)"
      ],
      "metadata": {
        "id": "i-FCXfRUJDvc"
      },
      "execution_count": null,
      "outputs": []
    },
    {
      "cell_type": "code",
      "source": [
        "# Simulation of nominal parameters that gives a batch that meed the end criteria\n",
        "newplot(plotType='TimeSeries_2')\n",
        "simu(8)"
      ],
      "metadata": {
        "id": "nJo_ZejCI-BT"
      },
      "execution_count": null,
      "outputs": []
    },
    {
      "cell_type": "code",
      "source": [
        "# Exammple of process parameter changes and how they meet the end criteria\n",
        "newplot(plotType='TimeSeries_2')\n",
        "par(Y=0.50, qSmax=0.50); simu(8)  # - pass (solid line)\n",
        "par(Y=0.50, qSmax=0.40); simu(8)  # - fail criteria time_final < 6.0 (dashed line)\n",
        "par(Y=0.30, qSmax=0.50); simu(8)  # - fail criteria X_final > 5.0 (dotted line)\n",
        "par(Y=0.30, qSmax=0.40); simu(8)  # - fail both criteria (dash dotted line)"
      ],
      "metadata": {
        "id": "f_GwNooXJCL7"
      },
      "execution_count": null,
      "outputs": []
    },
    {
      "cell_type": "markdown",
      "source": [
        "We see that the accepted batch (solid line) finish first. The batches that fail take longer time and two of them has also lower cell concentration at the end."
      ],
      "metadata": {
        "id": "tgt3SpxyJHwu"
      }
    },
    {
      "cell_type": "markdown",
      "source": [
        "## 1.2 Batch evaluation under process variation - parameter sweep\n",
        "Now let us systematically sweep through a number of combinations of process parameters Y and qSmax and evaluate the batches and visualise the result."
      ],
      "metadata": {
        "id": "LsGOYU4nJN_w"
      }
    },
    {
      "cell_type": "code",
      "source": [
        "# Define sweep ranges and storage of final data\n",
        "nY = 20\n",
        "nqSmax = 20\n",
        "Y_range = np.linspace(0.3,0.5,nY)\n",
        "qSmax_range = np.linspace(0.4,0.6,nqSmax)\n",
        "data = np.zeros([nY,nqSmax,5])"
      ],
      "metadata": {
        "id": "PrS-jkl3JJVf"
      },
      "execution_count": null,
      "outputs": []
    },
    {
      "cell_type": "code",
      "source": [],
      "metadata": {
        "id": "8g1C2_zZOqH1"
      },
      "execution_count": null,
      "outputs": []
    },
    {
      "cell_type": "code",
      "source": [
        "# Run parameter sweep - takes a few minutes\n",
        "newplot(plotType='TimeSeries_2_diagrams')\n",
        "init(VX_start=2, VS_start=10)\n",
        "\n",
        "for j in range(nY):\n",
        "    for k in range(nqSmax):\n",
        "        par(Y=Y_range[j])\n",
        "        par(qSmax=qSmax_range[k])\n",
        "        simu(8)\n",
        "\n",
        "        # Store final results\n",
        "        data[j,k,0] = Y_range[j]\n",
        "        data[j,k,1] = qSmax_range[k]\n",
        "        data[j,k,2] = sim_res['monitor.time_final'][-1]\n",
        "        data[j,k,3] = sim_res['monitor.X_final'][-1]\n",
        "        data[j,k,4] = sim_res['monitor.batch_evaluation'][-1]\n",
        "\n",
        "        # Plot simulation results\n",
        "        if sim_res['monitor.batch_evaluation'][-1] > 0:\n",
        "            ax1.plot(sim_res['time'], sim_res['bioreactor.c[1]'],'b-')\n",
        "            ax2.plot(sim_res['time'], sim_res['bioreactor.c[2]'],'b-')\n",
        "            ax2.plot([0, simulationTime], [model_get('monitor.S_min'), model_get('monitor.S_min')],'g--')\n",
        "            ax3.plot(sim_res['time'], sim_res['bioreactor.culture.q[1]'],'b-')\n",
        "            ax4.step(sim_res['time'],sim_res['monitor.batch_evaluation'],where='post',color='b',linestyle='-')\n",
        "        else:\n",
        "            ax1.plot(sim_res['time'], sim_res['bioreactor.c[1]'],'r-')\n",
        "            ax2.plot(sim_res['time'], sim_res['bioreactor.c[2]'],'r-')\n",
        "            ax2.plot([0, simulationTime], [model_get('monitor.S_min'), model_get('monitor.S_min')],'g--')\n",
        "            ax3.plot(sim_res['time'], sim_res['bioreactor.culture.q[1]'],'r-')\n",
        "            ax4.step(sim_res['time'],sim_res['monitor.batch_evaluation'],where='post',color='r',linestyle='-')\n",
        "\n",
        "plt.show()"
      ],
      "metadata": {
        "id": "ytlcfYUbJYVf"
      },
      "execution_count": null,
      "outputs": []
    },
    {
      "cell_type": "code",
      "source": [],
      "metadata": {
        "id": "9F-xxAcJOoE3"
      },
      "execution_count": null,
      "outputs": []
    },
    {
      "cell_type": "markdown",
      "source": [
        "Batches represented by blue lines are those that in the end got accepted. The red ones failed."
      ],
      "metadata": {
        "id": "mj6TRzrKJeu8"
      }
    },
    {
      "cell_type": "code",
      "source": [
        "# Show end results\n",
        "plt.figure()\n",
        "ax1 = plt.subplot(1,2,1)\n",
        "ax2 = plt.subplot(1,2,2)\n",
        "\n",
        "for j in range(nY):\n",
        "    for k in range(nqSmax):\n",
        "        if data[j,k,4] > 0:\n",
        "            ax1.scatter(data[j,k,0],data[j,k,1],c='b')\n",
        "        else:\n",
        "            ax1.scatter(data[j,k,0],data[j,k,1],c='r')\n",
        "ax1.grid()\n",
        "#plt.axis([0, 0.8, 0, 0.8])\n",
        "ax1.set_ylabel('qSmax [g/g,h]')\n",
        "ax1.set_xlabel('Y [g/g]')\n",
        "ax1.set_title('Process parameter space')\n",
        "\n",
        "for j in range(nY):\n",
        "    for k in range(nqSmax):\n",
        "        if data[j,k,4] > 0:\n",
        "            ax2.scatter(data[j,k,2],data[j,k,3],c='b')\n",
        "        else:\n",
        "            ax2.scatter(data[j,k,2],data[j,k,3],c='r')\n",
        "ax2.grid()\n",
        "#plt.axis([0, 8, 0, 8])\n",
        "ax2.set_xlabel('T_final [h]')\n",
        "ax2.set_ylabel('X_final [g/L]')\n",
        "ax2.set_title('Batch evaluation space')\n",
        "plt.show()"
      ],
      "metadata": {
        "id": "iHX8hZWtJfue"
      },
      "execution_count": null,
      "outputs": []
    },
    {
      "cell_type": "markdown",
      "source": [
        "Here we visualize the previous simulations results in a different way with foucse on the end result. Each dot in the left diagram (process parameter space) represent a simulation that give a result in the rigiht diagam (batch evaluation space). The blue dots are those batches that were accepted and the red ones those that failed.\n",
        "\n",
        "The blue dots in the process parameter space show the \"design space\" for the acceptance criteria we have."
      ],
      "metadata": {
        "id": "PjLpUaeJJnos"
      }
    },
    {
      "cell_type": "markdown",
      "source": [
        "## 2 Batch end detection - with measurement noise\n",
        "\n",
        "Here we load a system model with normal noise added to the sampled value of substrate concentration. The measurement of substrate conentration usually has a higher variation than measuremetn of cell concentration and therefore we focus here on the impact on substrate conentrations.\n",
        "\n",
        "Thus detection of end of batch is now in discrete time with a give samplePeriod (default 0.1 hour). This discreteization also introduce an error in detection of the end point. By changing this sample intervall to shorter values you can see the impact of this error but not done here."
      ],
      "metadata": {
        "id": "vihCtXFwJtM_"
      }
    },
    {
      "cell_type": "code",
      "source": [
        "run -i BPL_TEST2_Batch_with_noise_fmpy_explore.py"
      ],
      "metadata": {
        "id": "v5YUU6PEJo0U"
      },
      "execution_count": null,
      "outputs": []
    },
    {
      "cell_type": "markdown",
      "source": [
        "## 2.1 Batch evaluation under substrate measurement error\n",
        "\n",
        "Here we see an example of how substrate measurement noise directly affect the evaluation of the batch from accetable to not acceptable."
      ],
      "metadata": {
        "id": "NqOhqSEnJ0Tg"
      }
    },
    {
      "cell_type": "code",
      "source": [
        "# Nominal parameters\n",
        "par(S_min=1.0, time_final_max=6.0, X_final_min=5.0)\n",
        "init(VX_start=2, VS_start=10)\n",
        "par(Y=0.5, qSmax=0.5, Ks=0.1)\n",
        "par(sigma=0.48, samplePeriod=0.1)"
      ],
      "metadata": {
        "id": "HNe6dtHHJ1Zk"
      },
      "execution_count": null,
      "outputs": []
    },
    {
      "cell_type": "code",
      "source": [
        "# Simulation of nominal parameters that gives a batch that meed the end criteria\n",
        "newplot(plotType='TimeSeries_2')\n",
        "par(Y=0.5, qSmax=0.4);\n",
        "for value in [2,3,5]: par(seed=value); simu(8)"
      ],
      "metadata": {
        "id": "uZYfdQVQJ6oR"
      },
      "execution_count": null,
      "outputs": []
    },
    {
      "cell_type": "markdown",
      "source": [
        "## 2.2 Batch evaluation under process variation and measurement error - parameter sweep\n",
        "\n",
        "Now let us again systematically sweep through a number of combinations of process parameters Y and qSmax and evaluate the batches and visualise their result."
      ],
      "metadata": {
        "id": "TcknMcBdJ_d5"
      }
    },
    {
      "cell_type": "code",
      "source": [
        "# Define sweep ranges and storage of final data\n",
        "nY = 20\n",
        "nqSmax = 20\n",
        "Y_range = np.linspace(0.3,0.5,nY)\n",
        "qSmax_range = np.linspace(0.4,0.6,nqSmax)\n",
        "data = np.zeros([nY,nqSmax,5])"
      ],
      "metadata": {
        "id": "HTmJ66XjKAUq"
      },
      "execution_count": null,
      "outputs": []
    },
    {
      "cell_type": "code",
      "source": [
        "# Run parameter sweep - takes a few minuts\n",
        "newplot(plotType='TimeSeries_2_diagrams')\n",
        "par(sigma=0.48, seed=1, samplePeriod=0.1)\n",
        "\n",
        "for j in range(nY):\n",
        "    for k in range(nqSmax):\n",
        "        par(Y=Y_range[j])\n",
        "        par(qSmax=qSmax_range[k])\n",
        "        simu(8)\n",
        "\n",
        "        # Store final results\n",
        "        data[j,k,0] = Y_range[j]\n",
        "        data[j,k,1] = qSmax_range[k]\n",
        "        data[j,k,2] = sim_res['monitor.time_final'][-1]\n",
        "        data[j,k,3] = sim_res['monitor.X_final'][-1]\n",
        "        data[j,k,4] = sim_res['monitor.batch_evaluation'][-1]\n",
        "\n",
        "        # Plot simulation results\n",
        "        if sim_res['monitor.batch_evaluation'][-1] > 0:\n",
        "            ax1.plot(sim_res['time'], sim_res['bioreactor.c[1]'],'b-')\n",
        "            ax2.plot(sim_res['time'], sim_res['bioreactor.c[2]'],'b-')\n",
        "            ax3.plot(sim_res['time'], sim_res['bioreactor.culture.q[1]'],'b-')\n",
        "            ax4.plot(sim_res['time'], sim_res['sensor.out.c[2]'],'b-')\n",
        "            ax4.plot([0, simulationTime], [model_get('monitor.S_min'), model_get('monitor.S_min')],'g--')\n",
        "            ax5.step(sim_res['time'],sim_res['monitor.batch_evaluation'],where='post',color='b',linestyle='-')\n",
        "        else:\n",
        "            ax1.plot(sim_res['time'], sim_res['bioreactor.c[1]'],'r-')\n",
        "            ax2.plot(sim_res['time'], sim_res['bioreactor.c[2]'],'r-')\n",
        "            ax3.plot(sim_res['time'], sim_res['bioreactor.culture.q[1]'],'r-')\n",
        "            ax4.plot(sim_res['time'], sim_res['sensor.out.c[2]'],'r-')\n",
        "            ax4.plot([0, simulationTime], [model_get('monitor.S_min'), model_get('monitor.S_min')],'g--')\n",
        "            ax5.step(sim_res['time'],sim_res['monitor.batch_evaluation'],where='post',color='r',linestyle='-')\n",
        "\n",
        "plt.show()"
      ],
      "metadata": {
        "id": "JjjM6uouKFHZ"
      },
      "execution_count": null,
      "outputs": []
    },
    {
      "cell_type": "code",
      "source": [
        "# Show end results\n",
        "plt.figure()\n",
        "ax1 = plt.subplot(1,2,1)\n",
        "ax2 = plt.subplot(1,2,2)\n",
        "\n",
        "for j in range(nY):\n",
        "    for k in range(nqSmax):\n",
        "        if data[j,k,4] > 0:\n",
        "            ax1.scatter(data[j,k,0],data[j,k,1],c='b')\n",
        "        else:\n",
        "            ax1.scatter(data[j,k,0],data[j,k,1],c='r')\n",
        "ax1.grid()\n",
        "#plt.axis([0, 0.8, 0, 0.8])\n",
        "ax1.set_ylabel('qSmax [g/g,h]')\n",
        "ax1.set_xlabel('Y [g/g]')\n",
        "ax1.set_title('Process parameter space')\n",
        "\n",
        "for j in range(nY):\n",
        "    for k in range(nqSmax):\n",
        "        if data[j,k,4] > 0:\n",
        "            ax2.scatter(data[j,k,2],data[j,k,3],c='b')\n",
        "        else:\n",
        "            ax2.scatter(data[j,k,2],data[j,k,3],c='r')\n",
        "ax2.grid()\n",
        "#plt.axis([0, 8, 0, 8])\n",
        "ax2.set_xlabel('T_final [h]')\n",
        "ax2.set_ylabel('X_final [g/L]')\n",
        "ax2.set_title('Batch evaluation space')\n",
        "plt.show()"
      ],
      "metadata": {
        "id": "9BbqAoJRKLW8"
      },
      "execution_count": null,
      "outputs": []
    },
    {
      "cell_type": "markdown",
      "source": [
        "We see that we get somwehat different results in the parameter space. The acceptable region with blue dots (design space) get a more rounded corner. The vertical left line is also more rugged.\n",
        "\n",
        "With much more simulations we could get a better idea of the probablity that a batch is accepted and determine the design space in proabilistic sense.  "
      ],
      "metadata": {
        "id": "NVjpueTCKQWv"
      }
    },
    {
      "cell_type": "markdown",
      "source": [
        "## 3 Summary\n",
        "\n",
        "We have worked through a simple example of evaluation of batch cuöture with given acceptance criteria and how that criteria can be translated to acceptable variation in process parameters, i.e. the design space.\n",
        "\n",
        "In the deterministic case we get a rather clear cut design space.\n",
        "\n",
        "In the more realistic case with subsrate measurment noise included we get a more complicated design space, but still similar.\n",
        "\n",
        "The stochastic model introduce erorrs both due to the added normal noise in the substrate concentration, and due to the fact that we use time discrete system for the noise. The impact of the time discrete check when batch has ended can be made smaller by chosing a smaller sample intervall. This was not studied here and is left for the interested reader.\n",
        "\n",
        "Note..."
      ],
      "metadata": {
        "id": "N1AwPMLJKVJQ"
      }
    },
    {
      "cell_type": "markdown",
      "source": [
        "## References\n",
        "\n",
        "[1] Axelsson J.P. and A. Elsheikh: “An example of sensitivity analysis of a bioprocess using Bioprocess Library for Modelica”, Proceedings MODPROD, Linköping, Sweden 2019, see presentation\n",
        "[here](https://modprodblog.wordpress.com/modprod-2019/)."
      ],
      "metadata": {
        "id": "jYz0v7m7KZm5"
      }
    },
    {
      "cell_type": "markdown",
      "source": [
        "## Appendix"
      ],
      "metadata": {
        "id": "pVMUuqPOKhfO"
      }
    },
    {
      "cell_type": "code",
      "source": [
        "describe('parts')"
      ],
      "metadata": {
        "id": "ff0MCegVKSC0"
      },
      "execution_count": null,
      "outputs": []
    },
    {
      "cell_type": "code",
      "source": [
        "describe('MSL')"
      ],
      "metadata": {
        "id": "l5zDoRbOKoW5"
      },
      "execution_count": null,
      "outputs": []
    },
    {
      "cell_type": "code",
      "source": [
        "system_info()"
      ],
      "metadata": {
        "id": "mUFH0C7DKpek"
      },
      "execution_count": null,
      "outputs": []
    }
  ]
}